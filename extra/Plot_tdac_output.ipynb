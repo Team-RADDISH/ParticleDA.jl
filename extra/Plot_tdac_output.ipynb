{
 "cells": [
  {
   "cell_type": "code",
   "execution_count": null,
   "metadata": {},
   "outputs": [],
   "source": [
    "import numpy as np\n",
    "import matplotlib.pyplot as plt\n",
    "import h5py # if you get an error here, you may need to `pip install h5py` first\n",
    "from pint import UnitRegistry # if you get an error here, you may need to `pip install pint` first"
   ]
  },
  {
   "cell_type": "markdown",
   "metadata": {},
   "source": [
    "# Load HDF5 output file"
   ]
  },
  {
   "cell_type": "code",
   "execution_count": null,
   "metadata": {},
   "outputs": [],
   "source": [
    "filename = \"../particle_da.h5\"\n",
    "fh = h5py.File(filename,'r')\n",
    "print(\"The following datasets found in file\",filename,\":\",list(fh))\n",
    "if \"data_syn\" in list(fh): print(\"The following timestamps found: \", list(fh[\"data_syn\"]))\n",
    "if \"t0\" in list(fh[\"data_syn\"]): print(\"The following fields found: \", list(fh[\"data_syn\"][\"t0\"]))"
   ]
  },
  {
   "cell_type": "markdown",
   "metadata": {},
   "source": [
    "# Set these parameters to choose what to plot"
   ]
  },
  {
   "cell_type": "code",
   "execution_count": null,
   "metadata": {},
   "outputs": [],
   "source": [
    "timestamp = 't1' # Edit this value to plot a different time slice from the list above\n",
    "field = 'height' # Choose from the fields listed above"
   ]
  },
  {
   "cell_type": "markdown",
   "metadata": {},
   "source": [
    "# Collect data from the output file"
   ]
  },
  {
   "cell_type": "code",
   "execution_count": null,
   "metadata": {},
   "outputs": [],
   "source": [
    "ureg = UnitRegistry()\n",
    "\n",
    "field_unit = fh[\"data_syn\"][timestamp][field].attrs[\"Unit\"].decode('UTF-8')\n",
    "var_unit = fh[\"data_var\"][timestamp][field].attrs[\"Unit\"].decode('UTF-8')\n",
    "x_unit = fh[\"grid\"][\"x\"].attrs[\"Unit\"].decode('UTF-8')\n",
    "y_unit = fh[\"grid\"][\"y\"].attrs[\"Unit\"].decode('UTF-8')\n",
    "x_st_unit = fh[\"stations\"][\"x\"].attrs[\"Unit\"].decode('UTF-8')\n",
    "y_st_unit = fh[\"stations\"][\"y\"].attrs[\"Unit\"].decode('UTF-8')\n",
    "\n",
    "field_desc = fh[\"data_syn\"][timestamp][field].attrs[\"Description\"].decode('UTF-8')\n",
    "\n",
    "x = (fh[\"grid\"][\"x\"][:] * ureg(x_unit)).to(ureg.km)\n",
    "y = (fh[\"grid\"][\"y\"][:] * ureg(y_unit)).to(ureg.km)\n",
    "z_t = fh[\"data_syn\"][timestamp][field][()] * ureg(field_unit)\n",
    "z_avg = fh[\"data_avg\"][timestamp][field][()] * ureg(field_unit)\n",
    "z_var = fh[\"data_var\"][timestamp][field][()] * ureg(var_unit)\n",
    "z_std = np.sqrt(z_var)\n",
    "x_st = (fh[\"stations\"][\"x\"][:] * ureg(x_st_unit)).to(ureg.km)\n",
    "y_st = (fh[\"stations\"][\"y\"][:] * ureg(y_st_unit)).to(ureg.km)"
   ]
  },
  {
   "cell_type": "markdown",
   "metadata": {},
   "source": [
    "# Contour plots of surface height"
   ]
  },
  {
   "cell_type": "code",
   "execution_count": null,
   "metadata": {
    "scrolled": false
   },
   "outputs": [],
   "source": [
    "plt.rcParams[\"figure.figsize\"] = (18,6)\n",
    "\n",
    "n_contours = 100\n",
    "zmax = max(np.max(z_t), np.max(z_avg)).magnitude\n",
    "zmin = min(np.min(z_t), np.min(z_avg)).magnitude\n",
    "levels = np.linspace(zmin, zmax, n_contours)\n",
    "\n",
    "fig, ax = plt.subplots(1,3)\n",
    "i1 = ax[0].contourf(x,y,z_t,levels)\n",
    "i2 = ax[1].contourf(x,y,z_avg,levels)\n",
    "i3 = ax[2].contourf(x,y,z_std,n_contours)\n",
    "\n",
    "images = [i1,i2,i3]\n",
    "\n",
    "ax[0].set_title(f\"True {field_desc.lower()} [{z_t.units:~}]\")\n",
    "ax[1].set_title(f\"Assimilated {field_desc.lower()} [{z_avg.units:~}]\")\n",
    "ax[2].set_title(f\"Std of assimilated {field_desc.lower()} [{z_std.units:~}]\")\n",
    "\n",
    "for a,im in zip(ax,images):\n",
    "    a.scatter(x_st, y_st, color = 'r', marker = '*')\n",
    "    a.set_xlabel(f\"x [{y.units:~}]\")\n",
    "    a.set_ylabel(f\"y [{x.units:~}]\")\n",
    "    fig.colorbar(im,ax=a)"
   ]
  },
  {
   "cell_type": "markdown",
   "metadata": {},
   "source": [
    "# Scatter plot of particle weights"
   ]
  },
  {
   "cell_type": "code",
   "execution_count": null,
   "metadata": {},
   "outputs": [],
   "source": [
    "weights = fh[\"weights\"][timestamp][:]\n",
    "fig, ax = plt.subplots(1,2)\n",
    "\n",
    "ax[0].plot(weights, '*')\n",
    "ax[1].plot(weights, '*')\n",
    "ax[1].set_yscale('log')\n",
    "\n",
    "for a in ax:\n",
    "    a.set_xlabel('Particle ID')\n",
    "    a.set_ylabel('Weight ('+a.get_yscale() + ')')"
   ]
  },
  {
   "cell_type": "markdown",
   "metadata": {},
   "source": [
    "# Time series of Estimated Sample Size"
   ]
  },
  {
   "cell_type": "code",
   "execution_count": null,
   "metadata": {},
   "outputs": [],
   "source": [
    "ess = list()\n",
    "for ts in list(fh[\"weights\"])[1:]:\n",
    "    ess.append(1/sum(fh[\"weights\"][ts][:]**2))\n",
    "fig = plt.figure()\n",
    "t = np.arange(1,np.size(ess)+1)\n",
    "plt.plot(t,ess)\n",
    "plt.xlabel('Time step')\n",
    "plt.ylabel('Estimated Sample Size (1 / sum(weight^2))');"
   ]
  },
  {
   "cell_type": "markdown",
   "metadata": {},
   "source": [
    "# Animation"
   ]
  },
  {
   "cell_type": "code",
   "execution_count": null,
   "metadata": {},
   "outputs": [],
   "source": [
    "from matplotlib import animation\n",
    "\n",
    "plt.rcParams[\"figure.figsize\"] = (18,6)\n",
    "\n",
    "n_contours = 100\n",
    "\n",
    "fig, ax = plt.subplots(1,3)\n",
    "ax[0].set_title(f\"True {field_desc.lower()} [{z_t.units:~}]\")\n",
    "ax[1].set_title(f\"Assimilated {field_desc.lower()} [{z_avg.units:~}]\")\n",
    "ax[2].set_title(f\"Std of assimilated {field_desc.lower()} [{z_std.units:~}]\")\n",
    "\n",
    "cb = []\n",
    "\n",
    "def animate(i):\n",
    "    \n",
    "    for a in ax:\n",
    "        for c in a.collections:\n",
    "            c.remove()\n",
    "    \n",
    "    timestamp = f\"t{i}\"\n",
    "    z_t = fh[\"data_syn\"][timestamp][field][()] * ureg(field_unit)\n",
    "    z_avg = fh[\"data_avg\"][timestamp][field][()] * ureg(field_unit)\n",
    "    z_var = fh[\"data_var\"][timestamp][field][()] * ureg(var_unit)\n",
    "    z_std = np.sqrt(z_var)\n",
    "    \n",
    "    zmax = max(np.max(z_t), np.max(z_avg)).magnitude\n",
    "    zmin = min(np.min(z_t), np.min(z_avg)).magnitude\n",
    "    levels = np.linspace(zmin, zmax, n_contours)    \n",
    "    \n",
    "    i1 = ax[0].contourf(x,y,z_t,levels)\n",
    "    i2 = ax[1].contourf(x,y,z_avg,levels)\n",
    "    i3 = ax[2].contourf(x,y,z_std,n_contours)\n",
    "    \n",
    "    images = [i1, i2, i3]\n",
    "    \n",
    "    for a,im in zip(ax,images):\n",
    "        a.scatter(x_st, y_st, color = 'r', marker = '*')\n",
    "        a.set_xlabel(f\"x [{y.units:~}]\")\n",
    "        a.set_ylabel(f\"y [{x.units:~}]\")\n",
    "        #if len(cb) < 3:\n",
    "        #    cb.append(plt.colorbar(im, ax=a))\n",
    "        #else:\n",
    "        #    for c in cb:\n",
    "        #        c.update_normal(im)\n",
    "    \n",
    "    return images\n",
    "    \n",
    "anim = animation.FuncAnimation(fig, animate, frames=50)\n",
    "anim.save(\"animation.mp4\")"
   ]
  },
  {
   "cell_type": "code",
   "execution_count": null,
   "metadata": {},
   "outputs": [],
   "source": [
    "for key in fh[\"params\"].attrs:\n",
    "    try:\n",
    "        print(key, ':', fh[\"params\"].attrs[key])\n",
    "    except TypeError:\n",
    "        print(key, ':', 'N/A')"
   ]
  }
 ],
 "metadata": {
  "kernelspec": {
   "display_name": "Python 3",
   "language": "python",
   "name": "python3"
  },
  "language_info": {
   "codemirror_mode": {
    "name": "ipython",
    "version": 3
   },
   "file_extension": ".py",
   "mimetype": "text/x-python",
   "name": "python",
   "nbconvert_exporter": "python",
   "pygments_lexer": "ipython3",
   "version": "3.8.7"
  }
 },
 "nbformat": 4,
 "nbformat_minor": 4
}
