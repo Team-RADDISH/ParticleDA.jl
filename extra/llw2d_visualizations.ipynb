{
 "cells": [
  {
   "cell_type": "code",
   "execution_count": null,
   "id": "f12b14aa-17c3-42d3-b3fc-561317c487ae",
   "metadata": {},
   "outputs": [],
   "source": [
    "import numpy as np\n",
    "import matplotlib.pyplot as plt\n",
    "from matplotlib.animation import FuncAnimation\n",
    "import h5py\n",
    "from IPython.display import HTML"
   ]
  },
  {
   "cell_type": "markdown",
   "id": "bc40c510-7697-4790-9b34-61b6477a9ce5",
   "metadata": {},
   "source": [
    "## Load generated state and observation sequences and filtering estimates"
   ]
  },
  {
   "cell_type": "code",
   "execution_count": null,
   "id": "acb41910-c6e2-47b7-b2f5-88929a66f911",
   "metadata": {},
   "outputs": [],
   "source": [
    "simulated_state_and_observations = h5py.File(\"llw2d_simulated.h5\", \"r\")\n",
    "filtering_estimates = h5py.File(\"llw2d_filtered.h5\", \"r\")"
   ]
  },
  {
   "cell_type": "markdown",
   "id": "4e0bc147-df05-4ef2-b626-4f2719f7f251",
   "metadata": {},
   "source": [
    "## Plot generated state sequence"
   ]
  },
  {
   "cell_type": "code",
   "execution_count": null,
   "id": "6e983591-3d06-4101-9e46-669644fdff39",
   "metadata": {},
   "outputs": [],
   "source": [
    "n_timesteps = len(simulated_state_and_observations[\"state\"])\n",
    "for timestep in range(0, n_timesteps, 20):\n",
    "    fig, axes = plt.subplots(1, 3, figsize=(11.5, 3), dpi=100)\n",
    "    for field_name, ax in zip((\"height\", \"vx\", \"vy\"), axes):\n",
    "        field = simulated_state_and_observations[\"state\"][f\"t{timestep:04}\"][field_name]\n",
    "        artist = ax.contourf(field, levels=50)\n",
    "        fig.colorbar(artist, ax=ax, label=f\"{field.attrs['Unit'].decode('utf-8')}\")\n",
    "        ax.set(title=field.attrs[\"Description\"].decode(\"utf-8\"), aspect=1, xticks=(), yticks=())\n",
    "    fig.suptitle(f\"Timestep {timestep}\")\n",
    "    fig.tight_layout()\n",
    "    plt.show(fig)\n",
    "    plt.close(fig)"
   ]
  },
  {
   "cell_type": "markdown",
   "id": "44e9673d-617d-4152-92fd-555734745f86",
   "metadata": {},
   "source": [
    "## Plot filtering (mean) estimates of states"
   ]
  },
  {
   "cell_type": "code",
   "execution_count": null,
   "id": "fd3d8768-07c2-4e34-beb5-befc9f9b6ddc",
   "metadata": {},
   "outputs": [],
   "source": [
    "n_timesteps = len(filtering_estimates[\"state_avg\"])\n",
    "for timestep in range(0, n_timesteps, 20):\n",
    "    fig, axes = plt.subplots(1, 3, figsize=(11.5, 3), dpi=100)\n",
    "    for field_name, ax in zip((\"height\", \"vx\", \"vy\"), axes):\n",
    "        field = filtering_estimates[\"state_avg\"][f\"t{timestep:04}\"][field_name]\n",
    "        artist = ax.contourf(field, levels=50)\n",
    "        fig.colorbar(artist, ax=ax, label=f\"{field.attrs['Unit'].decode('utf-8')}\")\n",
    "        ax.set(title=field.attrs[\"Description\"].decode(\"utf-8\"), aspect=1, xticks=(), yticks=())\n",
    "    fig.suptitle(f\"Timestep {timestep}\")\n",
    "    fig.tight_layout()\n",
    "    plt.show(fig)\n",
    "    plt.close(fig)"
   ]
  },
  {
   "cell_type": "markdown",
   "id": "30304ccd-0d5f-4674-a0aa-232b127a5a39",
   "metadata": {},
   "source": [
    "## Animate true and estimated fields"
   ]
  },
  {
   "cell_type": "code",
   "execution_count": null,
   "id": "52833763-5a2b-48dc-a183-96dbf2619920",
   "metadata": {},
   "outputs": [],
   "source": [
    "fig, axes = plt.subplots(2, 3, figsize=(10, 6), dpi=100)\n",
    "timestep = 0\n",
    "artists = {}\n",
    "state_sequences = {\n",
    "    \"True\": simulated_state_and_observations[\"state\"],\n",
    "    \"Filter mean\": filtering_estimates[\"state_avg\"],\n",
    "}\n",
    "field_display_ranges = {\n",
    "    \"height\": (-10, 10),\n",
    "    \"vx\": (-500, 500),\n",
    "    \"vy\": (-500, 500),\n",
    "}\n",
    "for (field_name, (lower, upper)), axes_col in zip(field_display_ranges.items(), axes.T):\n",
    "    for (label, state_sequence), ax in zip(state_sequences.items(), axes_col):\n",
    "        field = state_sequence[f\"t{timestep:04}\"][field_name]\n",
    "        artists[label, field_name] = ax.pcolormesh(field, vmin=lower, vmax=upper)\n",
    "        ax.set(aspect=1, xticks=(), yticks=())\n",
    "        ax.set_title(field.attrs[\"Description\"].decode(\"utf-8\") + f\"\\n({label})\", fontsize=9)\n",
    "\n",
    "def update(timestep):\n",
    "    for (label, field_name), artist in artists.items():\n",
    "        artist.set_array(state_sequences[label][f\"t{timestep:04}\"][field_name])\n",
    "    return tuple(artists.values())\n",
    "\n",
    "plt.close(fig)\n",
    "        \n",
    "animation = FuncAnimation(fig=fig, func=update, frames=100)\n",
    "HTML(animation.to_html5_video())"
   ]
  }
 ],
 "metadata": {
  "kernelspec": {
   "display_name": "Python 3 (ipykernel)",
   "language": "python",
   "name": "python3"
  },
  "language_info": {
   "codemirror_mode": {
    "name": "ipython",
    "version": 3
   },
   "file_extension": ".py",
   "mimetype": "text/x-python",
   "name": "python",
   "nbconvert_exporter": "python",
   "pygments_lexer": "ipython3",
   "version": "3.10.5"
  },
  "widgets": {
   "application/vnd.jupyter.widget-state+json": {
    "state": {},
    "version_major": 2,
    "version_minor": 0
   }
  }
 },
 "nbformat": 4,
 "nbformat_minor": 5
}
