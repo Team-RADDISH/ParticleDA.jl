{
 "cells": [
  {
   "cell_type": "code",
   "execution_count": null,
   "metadata": {},
   "outputs": [],
   "source": [
    "import h5py\n",
    "from matplotlib import pyplot as plt\n",
    "import numpy as np\n",
    "import pandas as pd\n",
    "from pint import UnitRegistry\n",
    "import os\n",
    "ureg = UnitRegistry();\n",
    "plt.rcParams.update({'font.size': 20})"
   ]
  },
  {
   "cell_type": "code",
   "execution_count": null,
   "metadata": {},
   "outputs": [],
   "source": [
    "def get_runtimes(filename):\n",
    "    fh = h5py.File(filename,'r')\n",
    "    timer_string = fh['timer/rank0'][()].decode('UTF-8')\n",
    "    timer_string_lines = timer_string.split('\\n')\n",
    "    data = dict()\n",
    "    for line in timer_string_lines[7:-1]:\n",
    "        label = line.split(\"  \")[0].strip()\n",
    "        value_string = line.split()[-6].replace('μs', 'microseconds')\n",
    "        value = ureg(value_string).to(ureg.s).magnitude\n",
    "        data[label] = value\n",
    "    fh.close()\n",
    "    return data"
   ]
  },
  {
   "cell_type": "code",
   "execution_count": null,
   "metadata": {},
   "outputs": [],
   "source": [
    "results = {}\n",
    "ranks = np.logspace(0,6,num=7,base=2,dtype=int)\n",
    "for r in ranks:\n",
    "    filename = f\"weak_scaling_r{r}.h5\"\n",
    "    results[r] = get_runtimes(filename)\n",
    "df = pd.DataFrame(results)\n",
    "fields = ['Particle State Update', \n",
    "          'Resample',\n",
    "          'State Copy',\n",
    "          'Process Noise', \n",
    "          'Particle Variance',\n",
    "          'Particle Mean',\n",
    "          'IO',\n",
    "          'MPI Scatter',\n",
    "          'MPI Gather']\n",
    "df"
   ]
  },
  {
   "cell_type": "markdown",
   "metadata": {},
   "source": [
    "# Weak Scaling -- Scaling to larger problem size\n",
    "## Constant run time = Perfect scaling\n",
    "* 64 particles per MPI rank\n",
    "* 1 thread per MPI rank\n",
    "* 1 Node on CSD3-KNL"
   ]
  },
  {
   "cell_type": "code",
   "execution_count": null,
   "metadata": {
    "scrolled": false
   },
   "outputs": [],
   "source": [
    "ax = df.transpose().plot(y = fields, loglog = True, xticks = ranks, figsize = (16,9), style = '-o')\n",
    "ax.set_xlabel(\"Number of Ranks\");\n",
    "ax.set_ylabel(\"Run Time (s)\");\n",
    "ax.set_xticklabels(ranks);"
   ]
  },
  {
   "cell_type": "code",
   "execution_count": null,
   "metadata": {},
   "outputs": [],
   "source": [
    "results = {}\n",
    "ranks = np.logspace(0,4,num=5,base=2,dtype=int)\n",
    "for r in ranks:\n",
    "    filename = f\"/Users/tkoskela/csd3/tdac/scaling_test_5jun20/weak_scaling/weak_scaling_threads_r{r}.h5\"\n",
    "    results[r] = get_runtimes(filename)\n",
    "df = pd.DataFrame(results)\n",
    "df"
   ]
  },
  {
   "cell_type": "markdown",
   "metadata": {},
   "source": [
    "# Weak Scaling\n",
    " * 256 particles per MPI rank\n",
    " * 4 threads per MPI rank\n",
    " * 1 node on CSD3-KNL"
   ]
  },
  {
   "cell_type": "code",
   "execution_count": null,
   "metadata": {
    "scrolled": false
   },
   "outputs": [],
   "source": [
    "ax = df.transpose().plot(y = fields, loglog = True, xticks = ranks, figsize = (16,9), style = '-o',)\n",
    "ax.set_xlabel(\"Number of Ranks\");\n",
    "ax.set_ylabel(\"Run Time (s)\");\n",
    "ax.set_xticklabels(ranks);"
   ]
  },
  {
   "cell_type": "code",
   "execution_count": null,
   "metadata": {},
   "outputs": [],
   "source": [
    "results = {}\n",
    "ranks = np.logspace(0,6,num=7,base=2,dtype=int)\n",
    "for r in ranks:\n",
    "    filename = f\"/Users/tkoskela/csd3/tdac/scaling_test_5jun20/weak_scaling/weak_scaling_multinode_r{r}.h5\"\n",
    "    results[r] = get_runtimes(filename)\n",
    "df = pd.DataFrame(results)\n",
    "df"
   ]
  },
  {
   "cell_type": "markdown",
   "metadata": {},
   "source": [
    "# Weak Scaling\n",
    " * 256 particles per MPI rank\n",
    " * 4 threads per MPI rank\n",
    " * 4 nodes on CSD3-KNL (Default pinning)"
   ]
  },
  {
   "cell_type": "code",
   "execution_count": null,
   "metadata": {},
   "outputs": [],
   "source": [
    "ax = df.transpose().plot(y = fields, loglog = True, xticks = ranks, figsize = (16,9), style = '-o',)\n",
    "ax.set_xlabel(\"Number of Ranks\");\n",
    "ax.set_ylabel(\"Run Time (s)\");\n",
    "ax.set_xticklabels(ranks);"
   ]
  },
  {
   "cell_type": "code",
   "execution_count": null,
   "metadata": {},
   "outputs": [],
   "source": [
    "filename = \"/Users/tkoskela/csd3/tdac/scaling_test_5jun20/weak_scaling/weak_scaling_r1.h5\"\n",
    "fh = h5py.File(filename, \"r\")\n",
    "params = fh[\"params\"].attrs\n",
    "for p in list(params):\n",
    "    try:\n",
    "        print(p, params[p])\n",
    "    except TypeError:\n",
    "        pass    "
   ]
  }
 ],
 "metadata": {
  "kernelspec": {
   "display_name": "Python 3",
   "language": "python",
   "name": "python3"
  },
  "language_info": {
   "codemirror_mode": {
    "name": "ipython",
    "version": 3
   },
   "file_extension": ".py",
   "mimetype": "text/x-python",
   "name": "python",
   "nbconvert_exporter": "python",
   "pygments_lexer": "ipython3",
   "version": "3.7.7"
  }
 },
 "nbformat": 4,
 "nbformat_minor": 4
}
